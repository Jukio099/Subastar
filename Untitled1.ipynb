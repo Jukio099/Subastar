{
 "cells": [
  {
   "cell_type": "code",
   "execution_count": 3,
   "id": "a2a70402",
   "metadata": {},
   "outputs": [],
   "source": [
    "import pandas as pd"
   ]
  },
  {
   "cell_type": "code",
   "execution_count": 10,
   "id": "9b587022",
   "metadata": {},
   "outputs": [
    {
     "data": {
      "text/plain": [
       "2387132"
      ]
     },
     "execution_count": 10,
     "metadata": {},
     "output_type": "execute_result"
    }
   ],
   "source": [
    "df=pd.read_csv('Subastar.csv')\n",
    "\n",
    "df=df.iloc[:,1:]\n",
    "df1=df.rename(columns= {'1':'Clasificacion','2':'Sexo','3':'Edad','4':'Cantidad','5':'P. Maximo','6':'P. Minimo','7':'P. Promedio','8':'Peso Promedio','9':'P. Animal','fecha':'Fecha','11':'Ciudad'})\n",
    "\n",
    "df1['Cantidad'] = df1['Cantidad'].str.replace(r'[^0-9].', '', regex=True)\n",
    "\n",
    "df1['Cantidad'] = pd.to_numeric(df1['Cantidad'], errors='coerce').astype('Int64')\n",
    "\n",
    "# Filtrar las filas que tengan 4 dígitos o menos\n",
    "df_filtrado = df1[df1['Cantidad'].apply(lambda x: len(str(x)) <= 4)]\n",
    "df_filtrado['Cantidad'].sum()\n",
    "#ncolumns=['Clasificacion','Sexo','Edad','Cantidad','P. Maximo','P. Minimo','P. Promedio','Peso Promedio','P. Animal','Fecha','Ciudad']"
   ]
  },
  {
   "cell_type": "code",
   "execution_count": 11,
   "id": "d12ce8df",
   "metadata": {},
   "outputs": [
    {
     "data": {
      "text/html": [
       "<div>\n",
       "<style scoped>\n",
       "    .dataframe tbody tr th:only-of-type {\n",
       "        vertical-align: middle;\n",
       "    }\n",
       "\n",
       "    .dataframe tbody tr th {\n",
       "        vertical-align: top;\n",
       "    }\n",
       "\n",
       "    .dataframe thead th {\n",
       "        text-align: right;\n",
       "    }\n",
       "</style>\n",
       "<table border=\"1\" class=\"dataframe\">\n",
       "  <thead>\n",
       "    <tr style=\"text-align: right;\">\n",
       "      <th></th>\n",
       "      <th>Clasificacion</th>\n",
       "      <th>Sexo</th>\n",
       "      <th>Edad</th>\n",
       "      <th>Cantidad</th>\n",
       "      <th>P. Maximo</th>\n",
       "      <th>P. Minimo</th>\n",
       "      <th>P. Promedio</th>\n",
       "      <th>Peso Promedio</th>\n",
       "      <th>P. Animal</th>\n",
       "      <th>Fecha</th>\n",
       "      <th>Ciudad</th>\n",
       "    </tr>\n",
       "  </thead>\n",
       "  <tbody>\n",
       "  </tbody>\n",
       "</table>\n",
       "</div>"
      ],
      "text/plain": [
       "Empty DataFrame\n",
       "Columns: [Clasificacion, Sexo, Edad, Cantidad, P. Maximo, P. Minimo, P. Promedio, Peso Promedio, P. Animal, Fecha, Ciudad]\n",
       "Index: []"
      ]
     },
     "execution_count": 11,
     "metadata": {},
     "output_type": "execute_result"
    }
   ],
   "source": [
    "df_filtrado= df_filtrado.loc[df_filtrado['Cantidad']==3450]\n",
    "df_filtrado"
   ]
  }
 ],
 "metadata": {
  "kernelspec": {
   "display_name": "Python 3 (ipykernel)",
   "language": "python",
   "name": "python3"
  },
  "language_info": {
   "codemirror_mode": {
    "name": "ipython",
    "version": 3
   },
   "file_extension": ".py",
   "mimetype": "text/x-python",
   "name": "python",
   "nbconvert_exporter": "python",
   "pygments_lexer": "ipython3",
   "version": "3.11.5"
  }
 },
 "nbformat": 4,
 "nbformat_minor": 5
}
